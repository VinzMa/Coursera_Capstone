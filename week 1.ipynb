this notebook is my assignment for my capstone assignment
import panda as pd
